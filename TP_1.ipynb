{
 "cells": [
  {
   "cell_type": "markdown",
   "id": "5f162ac8-7675-4e21-8ad1-22ad24708467",
   "metadata": {},
   "source": [
    "# Trabajo Práctico 1 - Laboratorio de Datos - 1C 2025"
   ]
  },
  {
   "cell_type": "markdown",
   "id": "986b9ffd-7146-4fc6-91f7-cb67d8c1268f",
   "metadata": {},
   "source": [
    "**Integrantes del grupo:**"
   ]
  },
  {
   "cell_type": "code",
   "execution_count": null,
   "id": "12d7f0d8-382c-43be-87b7-a02c763b7773",
   "metadata": {},
   "outputs": [],
   "source": [
    "# Descomentar y correr esto una sola vez\n",
    "#!pip install plotly --upgrade\n",
    "#!pip install geopandas"
   ]
  },
  {
   "cell_type": "code",
   "execution_count": null,
   "id": "6c86fc5e-5f3d-42f2-b6a2-e20353cb903f",
   "metadata": {},
   "outputs": [],
   "source": [
    "# Si requieren mas librerias, pueden importarlas aca\n",
    "import numpy as np\n",
    "import pandas as pd\n",
    "import geopandas as gpd\n",
    "import seaborn as sns\n",
    "import seaborn.objects as so\n",
    "import json\n",
    "import plotly.express as px\n",
    "from formulaic import Formula\n",
    "from sklearn import linear_model  \n",
    "from sklearn.metrics import mean_squared_error, r2_score, root_mean_squared_error  \n",
    "\n",
    "# Si no existe root_mean_squared_error, quitarlo o actualizar scikit-learn con el comando\n",
    "#!pip install scikit-learn --upgrade"
   ]
  },
  {
   "cell_type": "code",
   "execution_count": null,
   "id": "57a5e3f7-d24a-4aac-a682-74d27f6898f7",
   "metadata": {},
   "outputs": [],
   "source": [
    "df_educacion = pd.read_csv('indicadores-proceso-trayectoria-sobreedad-2012_2022.csv')"
   ]
  },
  {
   "cell_type": "markdown",
   "id": "bc6786da-7ec9-453a-8f71-b5f4b83386e9",
   "metadata": {},
   "source": [
    "### Procesamiento de Datos"
   ]
  },
  {
   "cell_type": "code",
   "execution_count": null,
   "id": "fe9d3368-1bb0-4521-8ac9-3b3b3e26f177",
   "metadata": {},
   "outputs": [],
   "source": [
    "zona_norte = ['San Isidro', 'Vicente Lopez', 'General San Martin', 'San Fernando', 'Tigre']\n",
    "zona_oeste = ['Moron', 'Tres de Febrero', 'La Matanza', 'Merlo', 'Moreno']\n",
    "zona_sur = ['Almirante Brown', 'Avellaneda', 'Quilmes', 'Lanus', 'Florencio Varela', 'Berazategui', 'Lomas de Zamora', 'Esteban Echeverria']"
   ]
  },
  {
   "cell_type": "markdown",
   "id": "0a00ea3f-44e6-450c-92d7-19fd50455b66",
   "metadata": {},
   "source": [
    "### Regresión"
   ]
  },
  {
   "cell_type": "code",
   "execution_count": null,
   "id": "610bd51f-e82b-450d-bf00-6e54b2803bfe",
   "metadata": {},
   "outputs": [],
   "source": [
    "area_metropolitana = ['Almirante Brown', 'Avellaneda', 'Berazategui', 'Berisso', 'Brandsen', 'Campana', 'Cañuelas',\n",
    "                      'Ensenada', 'Escobar', 'Esteban Echeverria', 'Exaltacion de la Cruz', 'Ezeiza',\n",
    "                      'Florencio Varela', 'General Las Heras', 'General Rodriguez', 'General San Martin', 'Hurlingham',\n",
    "                      'Ituzaingo', 'Jose C. Paz', 'La Matanza', 'La Plata', 'Lanus', 'Lujan', 'Lomas de Zamora',\n",
    "                      'Malvinas Argentinas', 'Marcos Paz', 'Merlo', 'Moreno', 'Moron', 'Pilar', 'Presidente Peron',\n",
    "                      'Quilmes', 'San Fernando', 'San Isidro', 'San Miguel', 'San Vicente', 'Tigre', 'Tres de Febrero',\n",
    "                      'Vicente Lopez', 'Zarate']"
   ]
  },
  {
   "cell_type": "code",
   "execution_count": null,
   "id": "4f5f5e60-83bb-4079-992f-8e83f7d7c09f",
   "metadata": {},
   "outputs": [],
   "source": []
  },
  {
   "cell_type": "markdown",
   "id": "f5a6c683-6fd5-4556-b3f0-ded5227d7a72",
   "metadata": {},
   "source": [
    "### Visualización con datos geográficos"
   ]
  },
  {
   "cell_type": "code",
   "execution_count": null,
   "id": "b930be32-fb07-4dfc-bad5-2e4234683df5",
   "metadata": {},
   "outputs": [],
   "source": [
    "# Cargamos el archivo de datos\n",
    "geo_df = gpd.read_file('partidos.geojson')"
   ]
  },
  {
   "cell_type": "code",
   "execution_count": null,
   "id": "8e6e083e-3d99-40b4-b6bb-fff28df619c6",
   "metadata": {},
   "outputs": [],
   "source": [
    "# Visualizamos los partidos\n",
    "geo_df.plot()"
   ]
  },
  {
   "cell_type": "code",
   "execution_count": null,
   "id": "75baf9c4-2fa0-482f-94c0-4766c62d5cc3",
   "metadata": {},
   "outputs": [],
   "source": [
    "# Limpieza de datos. Seguir las indicaciones en la consigna del TP para este paso.\n"
   ]
  },
  {
   "cell_type": "code",
   "execution_count": null,
   "id": "1549d6d5-e4f2-4f40-80d8-e5d0afee9bd8",
   "metadata": {},
   "outputs": [],
   "source": [
    "# Grabamos los datos limpios en un nuevo archivo GeoJSON\n",
    "geo_df.to_file('partidos_limpio.geojson', driver='GeoJSON')"
   ]
  },
  {
   "cell_type": "code",
   "execution_count": null,
   "id": "935a7eac-37d3-4974-9dbc-ddd544be25f2",
   "metadata": {},
   "outputs": [],
   "source": [
    "# Creamos un DataFrame repit con los datos de repitencia siguiendo la consigna del TP\n",
    "\n",
    "\n",
    "\n"
   ]
  },
  {
   "cell_type": "code",
   "execution_count": null,
   "id": "cc519b5e-5a00-4435-ba04-89b79cd9af16",
   "metadata": {},
   "outputs": [],
   "source": [
    "# Generamos un gráfico interactivo para el nivel de repitencia\n",
    "\n",
    "# Si no existe chorpleth_map o alguna opcion del codigo en la siguiente celda, actualizar plotly con el siguiente comando y reiniciar el kernel.\n",
    "#!pip install plotly --upgrade\n",
    "\n",
    "# Si tienen algún error de Java después de instalar los paquetes actualizados y reiniciar el kernel, prueben refrescar el navegador con CTRL+F5."
   ]
  },
  {
   "cell_type": "code",
   "execution_count": null,
   "id": "3518b443-f224-4c6e-bf7f-e912948b73b7",
   "metadata": {},
   "outputs": [],
   "source": [
    "with open('partidos_limpio.geojson', 'r') as f:\n",
    "    partidos = json.load(f)\n",
    "    \n",
    "fig = px.choropleth_map(\n",
    "    repit, \n",
    "    geojson=partidos, \n",
    "    featureidkey = 'properties.cde',\n",
    "    locations='cde',\n",
    "    color='repitencia_secundaria',\n",
    "    zoom = 4, \n",
    "    center = {\"lat\": -34.61315, \"lon\": -58.37723},\n",
    ")\n",
    "\n",
    "fig.show()"
   ]
  },
  {
   "cell_type": "code",
   "execution_count": null,
   "id": "0466801b-f4a8-4af7-8d13-9df775e4f2fa",
   "metadata": {},
   "outputs": [],
   "source": []
  },
  {
   "cell_type": "markdown",
   "id": "00c228ce-bfb2-4002-9280-204ba22fbd5e",
   "metadata": {},
   "source": [
    "### Análisis exploratorio"
   ]
  },
  {
   "cell_type": "code",
   "execution_count": null,
   "id": "b91f2a2a-8c9e-4764-91a5-c838bd2f06a0",
   "metadata": {},
   "outputs": [],
   "source": []
  }
 ],
 "metadata": {
  "kernelspec": {
   "display_name": "Python 3 (ipykernel)",
   "language": "python",
   "name": "python3"
  },
  "language_info": {
   "codemirror_mode": {
    "name": "ipython",
    "version": 3
   },
   "file_extension": ".py",
   "mimetype": "text/x-python",
   "name": "python",
   "nbconvert_exporter": "python",
   "pygments_lexer": "ipython3",
   "version": "3.10.12"
  }
 },
 "nbformat": 4,
 "nbformat_minor": 5
}
